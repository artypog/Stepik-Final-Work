{
 "cells": [
  {
   "cell_type": "markdown",
   "id": "b6527050",
   "metadata": {},
   "source": [
    "![](https://cdn.stepik.net/media/cache/images/courses/575/cover_3kqh9Iw/d1a44446e98638349c7416e78814f122.png)\n",
    "\n",
    "# Финальная работа\n",
    "\n",
    "В архив положил все требуемые модули. Плохо, что сразу не сообщили с какого момента необходимо все тесты сохранять в общих файлах. Я корректировал уже существующие скрипты, а в середине заданий завел новый проект, который находится в каталоге New_Project. \n",
    "\n",
    "## Прощение\n",
    "\n",
    "Прошу прощения за неудобство проверки, к сожалению, у меня не хватило терпения заново собирать все тексты в общие файлы.\n",
    "\n",
    "## Терпение\n",
    "\n",
    "Желаю проверяющим терпения.\n"
   ]
  }
 ],
 "metadata": {
  "kernelspec": {
   "display_name": "Python 3 (ipykernel)",
   "language": "python",
   "name": "python3"
  },
  "language_info": {
   "codemirror_mode": {
    "name": "ipython",
    "version": 3
   },
   "file_extension": ".py",
   "mimetype": "text/x-python",
   "name": "python",
   "nbconvert_exporter": "python",
   "pygments_lexer": "ipython3",
   "version": "3.11.5"
  }
 },
 "nbformat": 4,
 "nbformat_minor": 5
}
